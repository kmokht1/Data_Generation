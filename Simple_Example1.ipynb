{
  "nbformat": 4,
  "nbformat_minor": 0,
  "metadata": {
    "colab": {
      "provenance": []
    },
    "kernelspec": {
      "name": "python3",
      "display_name": "Python 3"
    },
    "language_info": {
      "name": "python"
    }
  },
  "cells": [
    {
      "cell_type": "markdown",
      "source": [
        "# Multivariate Data generation"
      ],
      "metadata": {
        "id": "dHQhmBYTt4Nu"
      }
    },
    {
      "cell_type": "code",
      "source": [
        "import numpy as np\n",
        "from scipy.stats import norm, lognorm, beta"
      ],
      "metadata": {
        "id": "Q8bEEny-Qi5z"
      },
      "execution_count": 16,
      "outputs": []
    },
    {
      "cell_type": "code",
      "source": [
        "# Let's start with three variables x1,x2,x3 and choose the distributions for each variable\n",
        "# Assume variable x1 has normal distribution which parameters are mean and variance\n",
        "mu_x1, sigma_x1 = 2, 1\n",
        "# Assume variable x2 has normal distribution which parameters are mean and variance\n",
        "#lambda_x2 = 1\n",
        "mu_x2, sigma_x2= 5,2\n",
        "# Assume variable x2 has uniform distribution which parameters are  -∞< a, b < ∞\n",
        "a_x3, b_x3 = 3, 5"
      ],
      "metadata": {
        "id": "OyfHpDnnQmro"
      },
      "execution_count": 17,
      "outputs": []
    },
    {
      "cell_type": "code",
      "source": [
        "# Generate random samples from each distribution\n",
        "n = 1000\n",
        "x1 = np.random.normal(mu_x1, sigma_x1, n)  #  ---> Normal dist\n",
        "x2 = np.random.normal(mu_x2, sigma_x2, n)\n",
        "x3 = np.random.uniform(a_x3, b_x3, n)      #  ---> Uniform dist"
      ],
      "metadata": {
        "id": "R6G9xFBbTJzL"
      },
      "execution_count": 18,
      "outputs": []
    },
    {
      "cell_type": "code",
      "source": [
        "# Calculate the correlation matrix \n",
        "#R = np.corrcoef(np.array([x1, x2, x3]))\n",
        "R=[[ 1.0 ,  0.5 ,  0.3 ],\n",
        "[ 0.5,  1.0 ,  0.7 ],\n",
        "[ 0.3 , 0.7  , 1.0 ]]\n"
      ],
      "metadata": {
        "id": "gg9_cMxQTf8H"
      },
      "execution_count": 19,
      "outputs": []
    },
    {
      "cell_type": "code",
      "source": [
        "# Calculate the Cholesky decomposition \n",
        "L = np.linalg.cholesky(R)"
      ],
      "metadata": {
        "id": "BKiLix04UDwL"
      },
      "execution_count": 20,
      "outputs": []
    },
    {
      "cell_type": "code",
      "source": [
        "# Generate random standard normal variables (we generate random normal 3 variables to be able to transfer to desired distribution)\n",
        "u = np.random.normal(0, 1, (3, n))"
      ],
      "metadata": {
        "id": "tL8NE9PwXAgr"
      },
      "execution_count": 21,
      "outputs": []
    },
    {
      "cell_type": "code",
      "source": [
        "# Generate correlated random variables ( we multiply the generated normal variables with the lower triangle of the decomposed correlation)\n",
        "z = np.dot(L, u)"
      ],
      "metadata": {
        "id": "ZocMQHG1Xbci"
      },
      "execution_count": 22,
      "outputs": []
    },
    {
      "cell_type": "code",
      "source": [
        "# Transform the correlated random variables into the desired distributions\n",
        "X = mu_x1 + sigma_x1*z[0]\n",
        "Y = mu_x2 + sigma_x2*z[1]\n",
        "Z = a_x3 + (b_x3 - a_x3)*z[2]"
      ],
      "metadata": {
        "id": "TTi0UhMfXsp9"
      },
      "execution_count": 23,
      "outputs": []
    },
    {
      "cell_type": "code",
      "source": [
        "ro=np.array([X,Y,Z])"
      ],
      "metadata": {
        "id": "42ieT2a5iB-d"
      },
      "execution_count": 24,
      "outputs": []
    },
    {
      "cell_type": "code",
      "source": [
        "ro=ro[:,~np.isnan(ro).any(axis=0)]"
      ],
      "metadata": {
        "id": "kR3PfV7tkLFw"
      },
      "execution_count": 25,
      "outputs": []
    },
    {
      "cell_type": "code",
      "source": [
        "ro.shape"
      ],
      "metadata": {
        "colab": {
          "base_uri": "https://localhost:8080/"
        },
        "id": "JHVYZo4flpLX",
        "outputId": "39d612e8-6f3b-4df5-87d2-4dfb18d3cc38"
      },
      "execution_count": 26,
      "outputs": [
        {
          "output_type": "execute_result",
          "data": {
            "text/plain": [
              "(3, 1000)"
            ]
          },
          "metadata": {},
          "execution_count": 26
        }
      ]
    },
    {
      "cell_type": "code",
      "source": [
        "Xm,Ym,Zm=ro[0],ro[1],ro[2]"
      ],
      "metadata": {
        "id": "0wQeOS6pk1be"
      },
      "execution_count": 27,
      "outputs": []
    },
    {
      "cell_type": "code",
      "source": [
        "# Print the correlation coefficients\n",
        "print('Correlation coefficients:')\n",
        "print(np.array(R))\n",
        "\n",
        "# Print the correlation between the transformed variables\n",
        "print('Correlation between transformed variables:')\n",
        "print(np.corrcoef(np.array([Xm, Ym, Zm])))"
      ],
      "metadata": {
        "colab": {
          "base_uri": "https://localhost:8080/"
        },
        "id": "_QCZHVpSYDoR",
        "outputId": "90b49898-5bb9-4356-de55-a9d10a35d01c"
      },
      "execution_count": 28,
      "outputs": [
        {
          "output_type": "stream",
          "name": "stdout",
          "text": [
            "Correlation coefficients:\n",
            "[[1.  0.5 0.3]\n",
            " [0.5 1.  0.7]\n",
            " [0.3 0.7 1. ]]\n",
            "Correlation between transformed variables:\n",
            "[[1.         0.45188097 0.24407753]\n",
            " [0.45188097 1.         0.69379251]\n",
            " [0.24407753 0.69379251 1.        ]]\n"
          ]
        }
      ]
    },
    {
      "cell_type": "code",
      "source": [
        "#Xm.mean(),Xm.std(),"
      ],
      "metadata": {
        "id": "baAq7D35tu9h"
      },
      "execution_count": 29,
      "outputs": []
    }
  ]
}